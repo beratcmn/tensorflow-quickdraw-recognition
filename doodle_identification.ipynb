{
  "nbformat": 4,
  "nbformat_minor": 0,
  "metadata": {
    "colab": {
      "provenance": [],
      "authorship_tag": "ABX9TyM0EhOpn1T6iNa7O+Zhjjag",
      "include_colab_link": true
    },
    "kernelspec": {
      "name": "python3",
      "display_name": "Python 3"
    },
    "language_info": {
      "name": "python"
    },
    "accelerator": "GPU",
    "gpuClass": "standard"
  },
  "cells": [
    {
      "cell_type": "markdown",
      "metadata": {
        "id": "view-in-github",
        "colab_type": "text"
      },
      "source": [
        "<a href=\"https://colab.research.google.com/github/beratcmn/tensorflow_quickdraw_recognition/blob/main/doodle_identification.ipynb\" target=\"_parent\"><img src=\"https://colab.research.google.com/assets/colab-badge.svg\" alt=\"Open In Colab\"/></a>"
      ]
    },
    {
      "cell_type": "markdown",
      "source": [
        "### Importing libraries"
      ],
      "metadata": {
        "id": "s9tSvWhosQ0R"
      }
    },
    {
      "cell_type": "code",
      "source": [
        "!pip install quickdraw"
      ],
      "metadata": {
        "colab": {
          "base_uri": "https://localhost:8080/"
        },
        "id": "6T7XjU5ptVVL",
        "outputId": "3b5628ba-0c72-4373-95b4-6df7d82716e0"
      },
      "execution_count": 1,
      "outputs": [
        {
          "output_type": "stream",
          "name": "stdout",
          "text": [
            "Looking in indexes: https://pypi.org/simple, https://us-python.pkg.dev/colab-wheels/public/simple/\n",
            "Collecting quickdraw\n",
            "  Downloading quickdraw-0.2.0-py3-none-any.whl (10 kB)\n",
            "Requirement already satisfied: pillow in /usr/local/lib/python3.8/dist-packages (from quickdraw) (8.4.0)\n",
            "Requirement already satisfied: requests in /usr/local/lib/python3.8/dist-packages (from quickdraw) (2.25.1)\n",
            "Requirement already satisfied: certifi>=2017.4.17 in /usr/local/lib/python3.8/dist-packages (from requests->quickdraw) (2022.12.7)\n",
            "Requirement already satisfied: chardet<5,>=3.0.2 in /usr/local/lib/python3.8/dist-packages (from requests->quickdraw) (4.0.0)\n",
            "Requirement already satisfied: urllib3<1.27,>=1.21.1 in /usr/local/lib/python3.8/dist-packages (from requests->quickdraw) (1.26.14)\n",
            "Requirement already satisfied: idna<3,>=2.5 in /usr/local/lib/python3.8/dist-packages (from requests->quickdraw) (2.10)\n",
            "Installing collected packages: quickdraw\n",
            "Successfully installed quickdraw-0.2.0\n"
          ]
        }
      ]
    },
    {
      "cell_type": "code",
      "execution_count": 2,
      "metadata": {
        "colab": {
          "base_uri": "https://localhost:8080/",
          "height": 35
        },
        "id": "i0zIWTvGpS5z",
        "outputId": "a4ff8a86-2006-4673-a202-3ec864088875"
      },
      "outputs": [
        {
          "output_type": "execute_result",
          "data": {
            "text/plain": [
              "'2.11.0'"
            ],
            "application/vnd.google.colaboratory.intrinsic+json": {
              "type": "string"
            }
          },
          "metadata": {},
          "execution_count": 2
        }
      ],
      "source": [
        "import tensorflow as tf\n",
        "\n",
        "from tensorflow.keras.preprocessing import image_dataset_from_directory\n",
        "\n",
        "from pathlib import Path\n",
        "from quickdraw import QuickDrawDataGroup\n",
        "\n",
        "tf.__version__"
      ]
    },
    {
      "cell_type": "markdown",
      "source": [
        "### Getting the doodles"
      ],
      "metadata": {
        "id": "M9OFMFAOtd3v"
      }
    },
    {
      "cell_type": "code",
      "source": [
        "image_size = (64, 64)\n",
        "categories = [\"airplane\", \"apple\", \"bicycle\", \"car\", \"cat\", \"cloud\", \"dog\", \"hamburger\", \"fish\", \"flower\", \"banana\", \"bird\", \"eye\", \"fork\", \"hat\"]\n",
        "max_drawings = 5000\n",
        "\n",
        "def generate_class_images(name, max_drawings, recognized):\n",
        "    directory = Path(\"data/\" + name)\n",
        "\n",
        "    if not directory.exists():\n",
        "        directory.mkdir(parents=True)\n",
        "\n",
        "    images = QuickDrawDataGroup(name, max_drawings=max_drawings, recognized=recognized)\n",
        "    for img in images.drawings:\n",
        "        filename = directory.as_posix() + \"/\" + str(img.key_id) + \".png\"\n",
        "        img.get_image(stroke_width=3).resize(image_size).save(filename)\n",
        "\n",
        "for label in categories:\n",
        "    generate_class_images(label, max_drawings=max_drawings, recognized=True)"
      ],
      "metadata": {
        "colab": {
          "base_uri": "https://localhost:8080/"
        },
        "id": "9i0PWtcltfXf",
        "outputId": "0c719e5b-0621-46f3-aa5a-6cbc94c1e6b4"
      },
      "execution_count": 3,
      "outputs": [
        {
          "output_type": "stream",
          "name": "stdout",
          "text": [
            "downloading airplane from https://storage.googleapis.com/quickdraw_dataset/full/binary/airplane.bin\n",
            "download complete\n",
            "loading airplane drawings\n",
            "load complete\n",
            "downloading apple from https://storage.googleapis.com/quickdraw_dataset/full/binary/apple.bin\n",
            "download complete\n",
            "loading apple drawings\n",
            "load complete\n",
            "downloading bicycle from https://storage.googleapis.com/quickdraw_dataset/full/binary/bicycle.bin\n",
            "download complete\n",
            "loading bicycle drawings\n",
            "load complete\n",
            "downloading car from https://storage.googleapis.com/quickdraw_dataset/full/binary/car.bin\n",
            "download complete\n",
            "loading car drawings\n",
            "load complete\n",
            "downloading cat from https://storage.googleapis.com/quickdraw_dataset/full/binary/cat.bin\n",
            "download complete\n",
            "loading cat drawings\n",
            "load complete\n",
            "downloading cloud from https://storage.googleapis.com/quickdraw_dataset/full/binary/cloud.bin\n",
            "download complete\n",
            "loading cloud drawings\n",
            "load complete\n",
            "downloading dog from https://storage.googleapis.com/quickdraw_dataset/full/binary/dog.bin\n",
            "download complete\n",
            "loading dog drawings\n",
            "load complete\n",
            "downloading hamburger from https://storage.googleapis.com/quickdraw_dataset/full/binary/hamburger.bin\n",
            "download complete\n",
            "loading hamburger drawings\n",
            "load complete\n",
            "downloading fish from https://storage.googleapis.com/quickdraw_dataset/full/binary/fish.bin\n",
            "download complete\n",
            "loading fish drawings\n",
            "load complete\n",
            "downloading flower from https://storage.googleapis.com/quickdraw_dataset/full/binary/flower.bin\n",
            "download complete\n",
            "loading flower drawings\n",
            "load complete\n",
            "downloading banana from https://storage.googleapis.com/quickdraw_dataset/full/binary/banana.bin\n",
            "download complete\n",
            "loading banana drawings\n",
            "load complete\n",
            "downloading bird from https://storage.googleapis.com/quickdraw_dataset/full/binary/bird.bin\n",
            "download complete\n",
            "loading bird drawings\n",
            "load complete\n",
            "downloading eye from https://storage.googleapis.com/quickdraw_dataset/full/binary/eye.bin\n",
            "download complete\n",
            "loading eye drawings\n",
            "load complete\n",
            "downloading fork from https://storage.googleapis.com/quickdraw_dataset/full/binary/fork.bin\n",
            "download complete\n",
            "loading fork drawings\n",
            "load complete\n",
            "downloading hat from https://storage.googleapis.com/quickdraw_dataset/full/binary/hat.bin\n",
            "download complete\n",
            "loading hat drawings\n",
            "load complete\n"
          ]
        }
      ]
    },
    {
      "cell_type": "markdown",
      "source": [
        "### Creating the datasets"
      ],
      "metadata": {
        "id": "clPaXlwxvFCn"
      }
    },
    {
      "cell_type": "code",
      "source": [
        "batch_size = 32\n",
        "\n",
        "train_dataset = image_dataset_from_directory(\n",
        "    \"data\",\n",
        "    validation_split=0.2,\n",
        "    subset=\"training\",\n",
        "    seed=123,\n",
        "    color_mode=\"grayscale\",\n",
        "    image_size=image_size,\n",
        "    batch_size=batch_size\n",
        ")\n",
        "\n",
        "validation_dataset = image_dataset_from_directory(\n",
        "    \"data\",\n",
        "    validation_split=0.2,\n",
        "    subset=\"validation\",\n",
        "    seed=123,\n",
        "    color_mode=\"grayscale\",\n",
        "    image_size=image_size,\n",
        "    batch_size=batch_size\n",
        ")"
      ],
      "metadata": {
        "colab": {
          "base_uri": "https://localhost:8080/"
        },
        "id": "dNu3hB7HvGeg",
        "outputId": "944de876-5990-48d1-f10d-1e213e82dd3d"
      },
      "execution_count": 5,
      "outputs": [
        {
          "output_type": "stream",
          "name": "stdout",
          "text": [
            "Found 75000 files belonging to 15 classes.\n",
            "Using 60000 files for training.\n",
            "Found 75000 files belonging to 15 classes.\n",
            "Using 15000 files for validation.\n"
          ]
        }
      ]
    }
  ]
}